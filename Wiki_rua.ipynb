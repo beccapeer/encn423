{
 "cells": [
  {
   "cell_type": "markdown",
   "id": "c4c4762e",
   "metadata": {},
   "source": [
    "# Wiki rua (2) tutorial Python notebook\n",
    "\n",
    "Use this notebook to help you code and calculate answers to the Week 2 tutorial questions. We'll assume you're somewhat familar with Python operations by now, so we'll skip our intro from last week and go straight into the tutorial. A quick reminder about running code in a Jupyter notebook:\n",
    "\n",
    "> To run notebook cells, click inside the block (add to the code or write your own) and press <code>Ctrl+Enter</code>\n",
    "\n",
    "Blocks will add themselves to the notebook automatically, or you can use the '+' button on the top ribbon to add more. You can save your notebook and outputs when you're finished.\n",
    "\n",
    "You can refresh your memory of useful equations from your notes, or from the lecture summary notes on Learn.\n",
    "\n",
    "Feel free to break up your code into blocks and test them as you go along (e.g., using <code>print()</code> statements to check an intermediate answer) -- this is a great advantage of working in a notebook!\n"
   ]
  },
  {
   "cell_type": "code",
   "execution_count": null,
   "id": "348d43c5",
   "metadata": {},
   "outputs": [],
   "source": [
    "# Load packages - investigate any other packages you might need for this tutorial\n",
    "import pandas as pd\n",
    "import numpy as np\n",
    "import matplotlib.pyplot as plt\n",
    "import math"
   ]
  },
  {
   "cell_type": "code",
   "execution_count": null,
   "id": "ff88bc3d",
   "metadata": {},
   "outputs": [],
   "source": [
    "# Begin code! "
   ]
  }
 ],
 "metadata": {
  "kernelspec": {
   "display_name": "encn423_env",
   "language": "python",
   "name": "encn423_env"
  },
  "language_info": {
   "codemirror_mode": {
    "name": "ipython",
    "version": 3
   },
   "file_extension": ".py",
   "mimetype": "text/x-python",
   "name": "python",
   "nbconvert_exporter": "python",
   "pygments_lexer": "ipython3",
   "version": "3.8.12"
  }
 },
 "nbformat": 4,
 "nbformat_minor": 5
}
