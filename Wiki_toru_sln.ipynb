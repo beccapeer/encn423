{
 "cells": [
  {
   "cell_type": "markdown",
   "id": "c4c4762e",
   "metadata": {},
   "source": [
    "# Wiki toru (3) tutorial Python notebook\n",
    "\n",
    "Use this notebook to help you code and calculate answers to the Week 3 tutorial questions. We'll assume you're familar with Python operations now, so we'll skip all our coding reminders.\n",
    "\n",
    "You can refresh your memory of useful equations from your notes, or from the lecture summary notes on Learn.\n",
    "\n",
    "I've loaded some potentially useful packages for the tutorial in the first block.\n"
   ]
  },
  {
   "cell_type": "code",
   "execution_count": 1,
   "id": "348d43c5",
   "metadata": {},
   "outputs": [],
   "source": [
    "# Load packages - add any others you might need\n",
    "import pandas as pd\n",
    "import numpy as np\n",
    "import math"
   ]
  },
  {
   "cell_type": "code",
   "execution_count": 2,
   "id": "ff88bc3d",
   "metadata": {},
   "outputs": [
    {
     "name": "stdout",
     "output_type": "stream",
     "text": [
      "The power in the water is 39.24 MW\n",
      "The maximum capacity for each turbine is 9.81 MW\n",
      "The expected annual generation is 207 GWh\n"
     ]
    }
   ],
   "source": [
    "# Begin code! \n",
    "# Question 1\n",
    "# define function for power\n",
    "def power(H,Q,eta):\n",
    "    #H is head in m\n",
    "    #Q is flow in m3/s\n",
    "    #eta is efficiency\n",
    "    P = 1000*9.81*H*Q*eta\n",
    "    return P\n",
    "\n",
    "H = 50 #m\n",
    "Q = 80 #m3/s\n",
    "\n",
    "#1a) calculate the power in the water\n",
    "P_1a = power(H,Q,1)/1000000 #convert to MW\n",
    "print('The power in the water is {power:.2f} MW'.format(power=P_1a))\n",
    "\n",
    "#1b) calculate max capacity of each turbine, no losses\n",
    "P_1b = P_1a/4 #or = power(H,Q/4,1)/1000000\n",
    "print('The maximum capacity for each turbine is {power:.2f} MW'.format(power=P_1b))\n",
    "\n",
    "#1d) how much electricity in a year?\n",
    "HL = 0.1\n",
    "eta_tg = 0.93\n",
    "CF = 0.72\n",
    "\n",
    "eta_T = (1-HL)*eta_tg\n",
    "\n",
    "P_1d = power(H,Q,eta_T)/1000000 #in MW OR power((H-HL),Q,eta_tg)\n",
    "Gen_1d = P_1d * 8760 * CF\n",
    "\n",
    "print('The expected annual generation is {energy:.0f} GWh'.format(energy=Gen_1d/1000))"
   ]
  },
  {
   "cell_type": "code",
   "execution_count": 3,
   "id": "d10292c2",
   "metadata": {},
   "outputs": [
    {
     "name": "stdout",
     "output_type": "stream",
     "text": [
      "The power in the water is 60.22 kW\n",
      "The expected annual generation is 374 MWh\n"
     ]
    }
   ],
   "source": [
    "# Question 2\n",
    "# define function for runoff flow\n",
    "def Q_r(i,A,c):\n",
    "    #i is rainfall in m3/m2/s\n",
    "    #A is area of catchment\n",
    "    #c is runoff coefficient\n",
    "    runoff = i*A*c\n",
    "    return runoff\n",
    "\n",
    "# known values\n",
    "rainfall = 800/1000/365/24/60/60 #800 mm/yr converted to m3/m2/s\n",
    "A_c = 22*1000000 #22km2 converted to m2\n",
    "slope = 0.11\n",
    "c = 0.1\n",
    "L_p = 1000 #penstock length in m\n",
    "\n",
    "# calculate the head at the site\n",
    "H_gross = L_p*slope\n",
    "\n",
    "# calculate power in the water\n",
    "runoff = Q_r(rainfall,A_c,c)\n",
    "P_2a = power(H_gross,runoff,1)\n",
    "print('The power in the water is {power:.2f} kW'.format(power=P_2a/1000))\n",
    "\n",
    "# Calculate head loss\n",
    "f = 0.013\n",
    "D = 0.2\n",
    "\n",
    "v = runoff/(np.pi*(D/2)**2)\n",
    "HL = (f*L_p*v**2)/(9.81*2*D)\n",
    "H_eff = H_gross - HL\n",
    "\n",
    "# calculate estimated electricity gen\n",
    "eta_t = 0.87\n",
    "eta_g = 0.9\n",
    "eta_tot = eta_t*eta_g\n",
    "\n",
    "Gen_2b = power(H_eff,runoff,eta_tot)*8760\n",
    "print('The expected annual generation is {energy:.0f} MWh'.format(energy=Gen_2b/1000000))"
   ]
  },
  {
   "cell_type": "code",
   "execution_count": 4,
   "id": "53c5c1b5",
   "metadata": {},
   "outputs": [
    {
     "name": "stdout",
     "output_type": "stream",
     "text": [
      "The expected annual generation is 241 MWh\n"
     ]
    }
   ],
   "source": [
    "# Challenge\n",
    "# new known values\n",
    "eta_gen = 0.9\n",
    "\n",
    "# set up lists for calculations in each month\n",
    "months = list(np.arange(1,13,1))\n",
    "days = [31,28,31,30,31,30,31,31,30,31,30,31]\n",
    "rainfall = []\n",
    "flow = []\n",
    "headloss = []\n",
    "head_eff = []\n",
    "P_available = []\n",
    "eta_turbine = []\n",
    "P_gen = []\n",
    "Generation = []\n",
    "\n",
    "rainfall = []\n",
    "for j in range(0,len(months)):\n",
    "    #calculate rainfall for each month with sine function\n",
    "    r = 62.5*math.sin((months[j]+8)*np.pi/6)+67.5\n",
    "    rainfall.append(r)\n",
    "\n",
    "    #convert rainfall values to m3/m2/s\n",
    "    i = rainfall[j]/1000/days[j]/24/60/60\n",
    "\n",
    "    #calculate flow and velocity\n",
    "    Q_rain = i*A_c*c\n",
    "    v_rain = Q_rain/(np.pi*(D/2)**2)\n",
    "\n",
    "    #calculate head loss and effective head\n",
    "    H_loss = (f*L_p*v_rain**2)/(2*9.81*D)\n",
    "    H_eff = H_gross - H_loss\n",
    "\n",
    "    #calculate turbine efficiency based on flow\n",
    "    if Q_rain < 0.011:\n",
    "            eta_turb = 0\n",
    "    else:\n",
    "        if Q_rain > 0.095:\n",
    "            eta_turb = 0.87\n",
    "        else: \n",
    "            a = 0.87/(0.095-0.011)\n",
    "            b = 0.87-a*0.095\n",
    "            eta_turb = a*Q_rain + b\n",
    "    eta_turbine.append(eta_turb)\n",
    "\n",
    "    #calculate total energy generated in a month\n",
    "    eta_total = eta_turb*eta_gen\n",
    "    E = power(H_eff,Q_rain,eta_total)*days[j]*24\n",
    "    Generation.append(E) \n",
    "\n",
    "#sum monthly generation\n",
    "total_gen = np.sum(Generation)/1000000 #convert to MWh\n",
    "print('The expected annual generation is {energy:.0f} MWh'.format(energy=total_gen))\n"
   ]
  },
  {
   "cell_type": "code",
   "execution_count": null,
   "id": "ef41bd24",
   "metadata": {},
   "outputs": [],
   "source": []
  }
 ],
 "metadata": {
  "interpreter": {
   "hash": "b53ca6624bc7b43e37882435d905976d2d2903357992138e4c6a6c86701bc21d"
  },
  "kernelspec": {
   "display_name": "encn423_env",
   "language": "python",
   "name": "python3"
  },
  "language_info": {
   "codemirror_mode": {
    "name": "ipython",
    "version": 3
   },
   "file_extension": ".py",
   "mimetype": "text/x-python",
   "name": "python",
   "nbconvert_exporter": "python",
   "pygments_lexer": "ipython3",
   "version": "3.8.12"
  }
 },
 "nbformat": 4,
 "nbformat_minor": 5
}
