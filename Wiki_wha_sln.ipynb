{
 "cells": [
  {
   "cell_type": "markdown",
   "id": "c4c4762e",
   "metadata": {},
   "source": [
    "# Wiki whā (4) tutorial Python notebook\n",
    "\n",
    "Use this notebook to help you code and calculate answers to the Week 4 tutorial questions. We'll assume you're familar with Python operations now, so get straight to it.\n",
    "\n",
    "Remeber, useful equations for the tutorial should be in your class notes or the lecture summary notes on Learn.\n",
    "\n",
    "Ready, set, code!\n"
   ]
  },
  {
   "cell_type": "code",
   "execution_count": 1,
   "id": "348d43c5",
   "metadata": {},
   "outputs": [],
   "source": [
    "# Load packages - add any others you might need\n",
    "import pandas as pd\n",
    "import numpy as np\n",
    "import math"
   ]
  },
  {
   "cell_type": "code",
   "execution_count": 2,
   "id": "ff88bc3d",
   "metadata": {},
   "outputs": [
    {
     "name": "stdout",
     "output_type": "stream",
     "text": [
      "The carnot efficiency is 35% and the power plant efficiency is 18%\n",
      "At 35 degrees C, the decrease in efficiency is 13%\n",
      "With spray cooling, the efficiency increases 10%\n",
      "The efficiency of the turbine is 77%\n",
      "The mass flow rate through each turbine is 9.35 kg/s\n"
     ]
    }
   ],
   "source": [
    "# Begin code! \n",
    "# Question 1\n",
    "cap = 30 #MW\n",
    "T_h = 171+273\n",
    "T_c = 15+273\n",
    "\n",
    "#calculate carnot and PP efficiency\n",
    "eta_c = 1-(T_c/T_h)\n",
    "eta_PP = 0.5*eta_c\n",
    "\n",
    "print('The carnot efficiency is {eff_c:.0%} and the power plant efficiency is {eff:.0%}'.format(eff_c=eta_c,eff=eta_PP))\n",
    "\n",
    "#power output at 35C and decrease in efficiency\n",
    "T_c2 = 35+273\n",
    "eta_PP2 = 0.5*(1-(T_c2/T_h))\n",
    "eff_decrease = 1-(eta_PP2/eta_PP)\n",
    "\n",
    "print('At 35 degrees C, the decrease in efficiency is {eff_d:.0%}'.format(eff_d=eff_decrease))\n",
    "\n",
    "#percent increase in efficiency with spray cooling\n",
    "T_wb = 13+273\n",
    "T_c3 = T_c2 - (T_c2-T_wb)*0.6\n",
    "eta_PP3 = 0.5*(1-(T_c3/T_h))\n",
    "eff_increase = (eta_PP3/eta_PP2)-1\n",
    "\n",
    "print('With spray cooling, the efficiency increases {eff_i:.0%}'.format(eff_i=eff_increase))\n",
    "\n",
    "#turbine efficiency\n",
    "cap_t = cap/5 * 1000 #kW = kJ/s\n",
    "H_steam = 2804 #kJ/kg\n",
    "x_iso = 0.74\n",
    "x_act = 0.82\n",
    "H_v = 2591 #kJ/kg\n",
    "H_l = 209 #kJ/kg\n",
    "\n",
    "H_iso = x_iso*H_v + (1-x_iso)*H_l\n",
    "H_act = x_act*H_v + (1-x_act)*H_l\n",
    "\n",
    "eta_turbine = (H_steam - H_act)/(H_steam - H_iso)\n",
    "\n",
    "print('The efficiency of the turbine is {eff_t:.0%}'.format(eff_t=eta_turbine))\n",
    "\n",
    "#calculate mass flow rate\n",
    "m_dot = cap_t/(H_steam-H_act) #kg/s\n",
    "\n",
    "print('The mass flow rate through each turbine is {m:.2f} kg/s'.format(m=m_dot))"
   ]
  },
  {
   "cell_type": "code",
   "execution_count": 3,
   "id": "c9b1f7ff",
   "metadata": {},
   "outputs": [
    {
     "name": "stdout",
     "output_type": "stream",
     "text": [
      "In summer, the GSHP has a COP of 31.67 and the air HP has a COP of 21.30\n",
      "In winter, the GSHP has a COP of 32.67 and the air HP has a COP of 5.31\n"
     ]
    }
   ],
   "source": [
    "# Question 2\n",
    "T_g = 12+273\n",
    "T_house = 21+273\n",
    "T_h = 34.8+273\n",
    "T_c = -34.4+273\n",
    "\n",
    "#In summer\n",
    "COP_g = T_g/(T_house-T_g)\n",
    "COP_a = T_house/(T_h-T_house)\n",
    "\n",
    "print('In summer, the GSHP has a COP of {cop_g:.2f} and the air HP has a COP of {cop_a:.2f}'.format(cop_g=COP_g, cop_a=COP_a))\n",
    "\n",
    "#In winter\n",
    "COP_g = T_house/(T_house-T_g)\n",
    "COP_a = T_house/(T_house-T_c)\n",
    "\n",
    "print('In winter, the GSHP has a COP of {cop_g:.2f} and the air HP has a COP of {cop_a:.2f}'.format(cop_g=COP_g, cop_a=COP_a))"
   ]
  },
  {
   "cell_type": "code",
   "execution_count": 4,
   "id": "550e33d5",
   "metadata": {},
   "outputs": [
    {
     "name": "stdout",
     "output_type": "stream",
     "text": [
      "The air HP would cost $3546.31 per year and the GSHP would cost $1569.13 per year\n"
     ]
    }
   ],
   "source": [
    "# Question 2 continued\n",
    "heatloss = 105 #MJ/h\n",
    "\n",
    "# load data\n",
    "temp_df = pd.read_csv('calgary_hourly.csv')\n",
    "\n",
    "#calculate COPs at each hour\n",
    "temp_df['COP_a'] = [T_house/(T_house-(t+273)) * 0.7 if t < 21 else (t/((t+273)-T_house) * 0.7 if t > 21 else 0) for t in temp_df['temperature_degC']]\n",
    "temp_df['COP_g'] = [T_house/(T_house-T_g) * 0.7 if t < 21 else T_g/(T_house-T_g)*0.7 for t in temp_df['temperature_degC']]\n",
    "\n",
    "#calculate electricity \n",
    "temp_df['e_air'] = [heatloss/60/60/cop*1000 if cop>0 else 0 for cop in temp_df['COP_a']]\n",
    "temp_df['e_ground'] = [heatloss/60/60/cop*1000 for cop in temp_df['COP_g']]\n",
    "\n",
    "#total costs\n",
    "cost_air = temp_df['e_air'].sum()*0.14 #$\n",
    "cost_ground = temp_df['e_ground'].sum()*0.14 #$\n",
    "\n",
    "print('The air HP would cost ${c_a:.2f} per year and the GSHP would cost ${c_g:.2f} per year'.format(c_a=cost_air,c_g=cost_ground))\n",
    "\n"
   ]
  },
  {
   "cell_type": "code",
   "execution_count": 5,
   "id": "37c10dc1",
   "metadata": {},
   "outputs": [
    {
     "name": "stdout",
     "output_type": "stream",
     "text": [
      "The air HP would cost $2868.10 per year and the GSHP would cost $1221.31 per year\n"
     ]
    }
   ],
   "source": [
    "#CHALLENGE\n",
    "temp_df['date'] = pd.to_datetime(temp_df['date'])\n",
    "temp_df['time_local'] = pd.to_datetime(temp_df['time_local'])\n",
    "\n",
    "temp_df['month'] = [m.month for m in temp_df['date']]\n",
    "temp_df['hour'] = [h.hour for h in temp_df['time_local']]\n",
    "\n",
    "#set up cost structure\n",
    "cost_w = [0.06,0.06,0.06,0.06,0.06,0.06,0.16,0.16,0.16,0.16,0.08,0.08,0.08,0.08,0.08,0.08,0.08,0.2,0.2,0.2,0.2,0.2,0.2,0.06]\n",
    "cost_s = [0.04,0.04,0.04,0.04,0.04,0.04,0.14,0.14,0.14,0.14,0.07,0.07,0.07,0.07,0.07,0.07,0.07,0.18,0.18,0.18,0.18,0.18,0.18,0.04]\n",
    "\n",
    "#summarise our electricity data for air and ground heating, in kWh\n",
    "elec_air = pd.pivot_table(temp_df,index=['month'],columns=['hour'],values=['e_air'],aggfunc='sum')\n",
    "elec_ground = pd.pivot_table(temp_df,index=['month'],columns=['hour'],values=['e_ground'],aggfunc='sum')\n",
    "\n",
    "cost_a = 0\n",
    "cost_g = 0\n",
    "\n",
    "for c in range(0,len(elec_air.index)):\n",
    "    if c in [0,1,2,9,10,11]:\n",
    "        cost_a += np.sum(elec_air.iloc[c,:]*cost_w)\n",
    "        cost_g += np.sum(elec_ground.iloc[c,:]*cost_w)\n",
    "    else:\n",
    "        cost_a += np.sum(elec_air.iloc[c,:]*cost_s)\n",
    "        cost_g += np.sum(elec_ground.iloc[c,:]*cost_s)\n",
    "\n",
    "#some rounding differences between excel and python pivoting -- acceptable\n",
    "print('The air HP would cost ${c_a:.2f} per year and the GSHP would cost ${c_g:.2f} per year'.format(c_a=cost_a,c_g=cost_g))\n"
   ]
  },
  {
   "cell_type": "code",
   "execution_count": null,
   "id": "73710024",
   "metadata": {},
   "outputs": [],
   "source": []
  }
 ],
 "metadata": {
  "interpreter": {
   "hash": "5536a080f63fdd9c023283788f7b92c7cf51ed6e837d66a61036a9fef347bedc"
  },
  "kernelspec": {
   "display_name": "encn423_env",
   "language": "python",
   "name": "python3"
  },
  "language_info": {
   "codemirror_mode": {
    "name": "ipython",
    "version": 3
   },
   "file_extension": ".py",
   "mimetype": "text/x-python",
   "name": "python",
   "nbconvert_exporter": "python",
   "pygments_lexer": "ipython3",
   "version": "3.8.12"
  }
 },
 "nbformat": 4,
 "nbformat_minor": 5
}
