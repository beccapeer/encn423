{
 "cells": [
  {
   "cell_type": "markdown",
   "id": "c4c4762e",
   "metadata": {},
   "source": [
    "# Wiki rua (2) tutorial Python notebook\n",
    "\n",
    "Use this notebook to help you code and calculate answers to the Week 2 tutorial questions. We'll assume you're somewhat familar with Python operations by now, so we'll skip our intro from last week and go straight into the tutorial. A quick reminder about running code in a Jupyter notebook:\n",
    "\n",
    "> To run notebook cells, click inside the block (add to the code or write your own) and press <code>Ctrl+Enter</code>\n",
    "\n",
    "Blocks will add themselves to the notebook automatically, or you can use the '+' button on the top ribbon to add more. You can save your notebook and outputs when you're finished.\n",
    "\n",
    "You can refresh your memory of useful equations from your notes, or from the lecture summary notes on Learn.\n",
    "\n",
    "Feel free to break up your code into blocks and test them as you go along (e.g., using <code>print()</code> statements to check an intermediate answer) -- this is a great advantage of working in a notebook!\n"
   ]
  },
  {
   "cell_type": "code",
   "execution_count": 60,
   "id": "348d43c5",
   "metadata": {},
   "outputs": [],
   "source": [
    "# Load packages - investigate any other packages you might need for this tutorial\n",
    "import pandas as pd\n",
    "import numpy as np\n",
    "import matplotlib.pyplot as plt\n",
    "import math"
   ]
  },
  {
   "cell_type": "code",
   "execution_count": 26,
   "id": "ff88bc3d",
   "metadata": {},
   "outputs": [],
   "source": [
    "# Begin code! \n",
    "#known values \n",
    "cap = 5 #MW\n",
    "c_p = 0.48\n",
    "z = 124 #m\n",
    "r = 48 #m\n",
    "# v_cutin = 2 m/s; v_cutout = 25 m/s; v_rated = 15 m/s\n",
    "wind_bins = list(np.arange(2,26,1))\n",
    "elev = 200 #m above SL\n",
    "v_avg = 8 #m/s\n",
    "T_avg = 15 + 273 #K"
   ]
  },
  {
   "cell_type": "code",
   "execution_count": 39,
   "id": "aaf912b3",
   "metadata": {},
   "outputs": [],
   "source": [
    "# Define rayleigh cdf\n",
    "def rayleigh(v,v_bar):\n",
    "    prob = 1- np.exp(-(math.pi/4)*(v/v_bar)**2)\n",
    "    return prob\n",
    "\n",
    "# set up values for the Rayleigh distribution\n",
    "rayleigh_bins = [1.5] #initialise with the lower bound\n",
    "for i in range(0,len(wind_bins)):\n",
    "    rayleigh_bins.append(wind_bins[i] + 0.5)"
   ]
  },
  {
   "cell_type": "code",
   "execution_count": 52,
   "id": "69219eaa",
   "metadata": {},
   "outputs": [],
   "source": [
    "# Calculate frequencies and hours in each bin based on rayleigh dist\n",
    "freq = []\n",
    "hours = []\n",
    "for v in rayleigh_bins:\n",
    "    f = rayleigh(v+1, v_avg) - rayleigh(v, v_avg)\n",
    "    freq.append(f)\n",
    "    hours.append(f*8760)\n",
    "    "
   ]
  },
  {
   "cell_type": "code",
   "execution_count": 48,
   "id": "1050cfc2",
   "metadata": {},
   "outputs": [],
   "source": [
    "# Calculate power curve\n",
    "# first, get density at elevation + hub height\n",
    "P = 101.29 - 0.011837*(elev+z) + (4.793*10**(-7))*(elev+z)**2 #kPa\n",
    "rho = (P*1000*28.97/1000)/(8.314*T_avg) #kg/m3\n",
    "\n",
    "# next, calculate power for cut in to rated wind speed, for v > 14 power is rated power = 5 MW\n",
    "power = []\n",
    "for v in wind_bins:\n",
    "    if v < 14:\n",
    "        p_calc = 0.5*c_p*rho*math.pi*(r**2)*(v**3)/1000 #kW\n",
    "        power.append(p_calc)\n",
    "    else:\n",
    "        power.append(5000) #kW"
   ]
  },
  {
   "cell_type": "code",
   "execution_count": 62,
   "id": "29d7999b",
   "metadata": {},
   "outputs": [
    {
     "name": "stdout",
     "output_type": "stream",
     "text": [
      "The total generation for the wind turbine is 13.73 GWh\n",
      "Capacity factor is 0.31\n"
     ]
    }
   ],
   "source": [
    "# calculate annual energy for one turbine and annual CF\n",
    "energy = []\n",
    "for i in range(0,len(wind_bins)):\n",
    "    gen = hours[i] * power[i]\n",
    "    energy.append(gen)\n",
    "\n",
    "total_gen = np.sum(energy)\n",
    "\n",
    "CF = total_gen/(cap*1000*8760)\n",
    "\n",
    "print('The total generation for the wind turbine is {E:.2f} GWh'.format(E=total_gen/1000000))\n",
    "print('Capacity factor is {cf:.2f}'.format(cf=CF))"
   ]
  },
  {
   "cell_type": "code",
   "execution_count": 68,
   "id": "7d5a7c41",
   "metadata": {},
   "outputs": [
    {
     "name": "stdout",
     "output_type": "stream",
     "text": [
      "The total generation for the wind farm is 196.76 GWh\n",
      "The proposed farm is 8.5% of NZ wind generation\n"
     ]
    }
   ],
   "source": [
    "# For three rows of six turbines with 78% losses, calculate gen\n",
    "farm_gen = total_gen*6 + total_gen*6*0.78 + total_gen*6*0.78*0.78 #kWh\n",
    "\n",
    "wind_gen_nz = 8.3/(60*60)*1000000 #convert PJ to GWh\n",
    "\n",
    "pct_nz_wind = (farm_gen/1000000)/wind_gen_nz\n",
    "\n",
    "print('The total generation for the wind farm is {E:.2f} GWh'.format(E=farm_gen/1000000))\n",
    "print('The proposed farm is {pct:.1%} of NZ wind generation'.format(pct=pct_nz_wind))"
   ]
  },
  {
   "cell_type": "code",
   "execution_count": null,
   "id": "3898f495",
   "metadata": {},
   "outputs": [],
   "source": []
  }
 ],
 "metadata": {
  "interpreter": {
   "hash": "228f39971decc1926ba2b1622eece28bac51a428e6481519a522086111f3803f"
  },
  "kernelspec": {
   "display_name": "encn423_env",
   "language": "python",
   "name": "python3"
  },
  "language_info": {
   "codemirror_mode": {
    "name": "ipython",
    "version": 3
   },
   "file_extension": ".py",
   "mimetype": "text/x-python",
   "name": "python",
   "nbconvert_exporter": "python",
   "pygments_lexer": "ipython3",
   "version": "3.8.12"
  }
 },
 "nbformat": 4,
 "nbformat_minor": 5
}
