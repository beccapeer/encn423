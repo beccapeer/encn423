{
 "cells": [
  {
   "cell_type": "markdown",
   "id": "c4c4762e",
   "metadata": {},
   "source": [
    "# Wiki rima (5) tutorial Python notebook\n",
    "\n",
    "Use this notebook to help you code and calculate answers to the Week 5 tutorial question. We'll assume you're familar with Python operations now, so get straight to it.\n",
    "\n",
    "Remeber, useful equations for the tutorial should be in your class notes or the lecture summary notes on Learn.\n"
   ]
  },
  {
   "cell_type": "code",
   "execution_count": null,
   "id": "348d43c5",
   "metadata": {},
   "outputs": [],
   "source": [
    "# Load packages - add any others you might need\n",
    "import pandas as pd\n",
    "import numpy as np\n",
    "import scipy.stats as st\n",
    "import matplotlib.pyplot as plt"
   ]
  },
  {
   "cell_type": "code",
   "execution_count": null,
   "id": "ff88bc3d",
   "metadata": {},
   "outputs": [],
   "source": [
    "# Begin code! "
   ]
  }
 ],
 "metadata": {
  "interpreter": {
   "hash": "5536a080f63fdd9c023283788f7b92c7cf51ed6e837d66a61036a9fef347bedc"
  },
  "kernelspec": {
   "display_name": "encn423_env",
   "language": "python",
   "name": "python3"
  },
  "language_info": {
   "codemirror_mode": {
    "name": "ipython",
    "version": 3
   },
   "file_extension": ".py",
   "mimetype": "text/x-python",
   "name": "python",
   "nbconvert_exporter": "python",
   "pygments_lexer": "ipython3",
   "version": "3.8.12"
  }
 },
 "nbformat": 4,
 "nbformat_minor": 5
}
