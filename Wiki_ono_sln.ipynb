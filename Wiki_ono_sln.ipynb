{
 "cells": [
  {
   "cell_type": "markdown",
   "id": "c4c4762e",
   "metadata": {},
   "source": [
    "# Wiki ono (1) tutorial Python notebook\n",
    "\n",
    "Use this notebook to help you code and calculate answers to the Week 1 tutorial questions.\n",
    "\n",
    "> To run notebook cells, click inside the block (add to the code or write your own) and press <code>Ctrl+Enter</code>\n",
    "> If you've never used a Jupyter notebook before, you can practice with the first two blocks of code below"
   ]
  },
  {
   "cell_type": "code",
   "execution_count": 1,
   "id": "288c795c",
   "metadata": {},
   "outputs": [],
   "source": [
    "# We'll start by defining a simple function\n",
    "def hello_world(name):\n",
    "    # name is a string input\n",
    "    print('Hello, world this is '+name+'!')"
   ]
  },
  {
   "cell_type": "code",
   "execution_count": 2,
   "id": "04045250",
   "metadata": {},
   "outputs": [
    {
     "name": "stdout",
     "output_type": "stream",
     "text": [
      "Hello, world this is Bec!\n"
     ]
    }
   ],
   "source": [
    "# Now we can practice calling our function - try inputting the code you need below\n",
    "hello_world('Bec')"
   ]
  },
  {
   "cell_type": "markdown",
   "id": "cbe88cad",
   "metadata": {},
   "source": [
    "### Tutorial begins here\n",
    "\n",
    "Now that you've practiced, you can use the notebook below for the tutorial. Blocks will add themselves to the notebook automatically, or you can use the '+' button on the top ribbon to add more. You can save your notebook and outputs when you're finished. "
   ]
  },
  {
   "cell_type": "code",
   "execution_count": 3,
   "id": "348d43c5",
   "metadata": {},
   "outputs": [],
   "source": [
    "# Often we start by loading any packages we think we might need for our code\n",
    "# There's none required for this tutorial, but if you're attempting the challenge you might want e.g.:\n",
    "import pandas as pd\n",
    "import numpy as np"
   ]
  },
  {
   "cell_type": "code",
   "execution_count": 4,
   "id": "35e1e7de",
   "metadata": {},
   "outputs": [
    {
     "name": "stdout",
     "output_type": "stream",
     "text": [
      "Approximately 28% of input energy makes it to customers\n",
      "Approximately 59% of input energy to the power plant is lost as heat\n"
     ]
    }
   ],
   "source": [
    "# Question 1\n",
    "n_pp = 0.31\n",
    "n_tn = 0.96\n",
    "n_dn = 0.94\n",
    "\n",
    "n_T = n_pp*n_tn*n_dn\n",
    "\n",
    "print('Approximately {n:.0%} of input energy makes it to customers'.format(n=n_T))\n",
    "\n",
    "n_tb = 0.85\n",
    "n_gn = 0.90\n",
    "\n",
    "n_HL = 1 - (n_pp/(n_tb*n_gn))\n",
    "\n",
    "print('Approximately {n:.0%} of input energy to the power plant is lost as heat'.format(n=n_HL))"
   ]
  },
  {
   "cell_type": "code",
   "execution_count": 5,
   "id": "f9eda265",
   "metadata": {},
   "outputs": [],
   "source": [
    "# Question 2\n",
    "# define LCOE equation\n",
    "def lcoe(cc,om,e,r,n):\n",
    "    #cc is capital costs in $/yr\n",
    "    #om is O&M costs in $/yr\n",
    "    #e is energy generated in MWh/yr\n",
    "    #r is discount rate\n",
    "    #n is lifetime\n",
    "    #lcoe is $/MWh\n",
    "\n",
    "    #set cost and energy sums to zero to initialise variables\n",
    "    cost = 0\n",
    "    energy = 0\n",
    "\n",
    "    #loop over the lifetime and return lcoe\n",
    "    for i in range(1,n+1):\n",
    "        cost += (cc+om)/((1+r)**i)\n",
    "        energy += e/((1+r)**i)\n",
    "    return cost/energy"
   ]
  },
  {
   "cell_type": "code",
   "execution_count": 6,
   "id": "3ba82a3c-c857-48f8-8199-ca8213c991ff",
   "metadata": {},
   "outputs": [
    {
     "name": "stdout",
     "output_type": "stream",
     "text": [
      "The LCOE of the proposed project is $21.20/MWh\n"
     ]
    }
   ],
   "source": [
    "# calculate LCOE for 2a\n",
    "lifetime = 20\n",
    "discount = 0.06\n",
    "cap = 1.2*1000000*10/lifetime\n",
    "oandm = 50000\n",
    "gen = 10*8760*0.35\n",
    "\n",
    "lcoe_wt = lcoe(cap,oandm,gen,discount,lifetime)\n",
    "print('The LCOE of the proposed project is ${cost:.2f}/MWh'.format(cost=lcoe_wt))"
   ]
  },
  {
   "cell_type": "code",
   "execution_count": 7,
   "id": "e88cbf38-7e21-48ea-a63d-2c0d045d6324",
   "metadata": {},
   "outputs": [
    {
     "name": "stdout",
     "output_type": "stream",
     "text": [
      "at a discount rate = 0.03, the LCOE = $21.20/MWh\n",
      "for a lifetime = 10, the LCOE = $40.77/MWh\n",
      "at a discount rate = 0.0195, the LCOE = $21.20/MWh\n",
      "for a lifetime = 15, the LCOE = $27.72/MWh\n",
      "at a discount rate = 0.054, the LCOE = $21.20/MWh\n",
      "for a lifetime = 18, the LCOE = $23.37/MWh\n",
      "at a discount rate = 0.066, the LCOE = $21.20/MWh\n",
      "for a lifetime = 22, the LCOE = $19.42/MWh\n",
      "at a discount rate = 0.075, the LCOE = $21.20/MWh\n",
      "for a lifetime = 25, the LCOE = $17.29/MWh\n",
      "at a discount rate = 0.09, the LCOE = $21.20/MWh\n",
      "for a lifetime = 30, the LCOE = $14.68/MWh\n"
     ]
    }
   ],
   "source": [
    "# calculate discount rate vs lifetime for 2b\n",
    "\n",
    "#create a range of values for discount rate and lifetime\n",
    "dr = [0.06*0.5, 0.026*0.75, 0.06*0.9, 0.06*1.1, 0.06*1.25, 0.06*1.5]\n",
    "lt = [10, 15, 18, 22, 25, 30]\n",
    "\n",
    "#loop through the ranges and output LCOE in each case\n",
    "for i in range(0,len(dr)):\n",
    "    lcoe_r = lcoe(cap,oandm,gen,dr[i],20)\n",
    "    print('at a discount rate = '+str(dr[i])+', the LCOE = ${cost:.2f}/MWh'.format(cost=lcoe_r))\n",
    "    cap_n = 1.2*1000000*10/lt[i]\n",
    "    lcoe_n = lcoe(cap_n,oandm,gen,0.06,lt[i])\n",
    "    print('for a lifetime = '+str(lt[i])+', the LCOE = ${cost:.2f}/MWh'.format(cost=lcoe_n))"
   ]
  },
  {
   "cell_type": "code",
   "execution_count": 10,
   "id": "03321715-ba14-48aa-9e1e-70c1b07aac8f",
   "metadata": {},
   "outputs": [
    {
     "name": "stdout",
     "output_type": "stream",
     "text": [
      "The average LCOE after 1000 simulations is $25.15/MWh\n"
     ]
    }
   ],
   "source": [
    "# Challenge\n",
    "#constant inputs\n",
    "ltime = 20\n",
    "c_cost = 1200000*10/ltime\n",
    "d_rate = 0.06\n",
    "\n",
    "#variable inputs\n",
    "om_mean = 50000\n",
    "om_std = 7000\n",
    "cf_mean = 0.30\n",
    "cf_std = 0.04\n",
    "\n",
    "#initialise an empty list to store computed lcoe values\n",
    "lcoe_vals = []\n",
    "for j in range(0, 1000):\n",
    "    cf_dist = np.random.normal(cf_mean, cf_std, 1000)\n",
    "    cf_value = np.random.choice(cf_dist)\n",
    "        \n",
    "    om_dist = np.random.normal(om_mean, om_std, 1000)\n",
    "    om_value = np.random.choice(om_dist)\n",
    "        \n",
    "    gen_an = 10 * cf_value * 8760\n",
    "    \n",
    "    lcoe_i = lcoe(c_cost, om_value, gen_an, d_rate, ltime)\n",
    "    lcoe_vals.append(lcoe_i)\n",
    "\n",
    "average_lcoe = np.mean(lcoe_vals)\n",
    "print('The average LCOE after 1000 simulations is ${cost:.2f}/MWh'.format(cost=average_lcoe))"
   ]
  },
  {
   "cell_type": "code",
   "execution_count": 16,
   "id": "42909742",
   "metadata": {},
   "outputs": [
    {
     "data": {
      "text/plain": [
       "Text(0.5, 1.0, 'LCOE simulation')"
      ]
     },
     "execution_count": 16,
     "metadata": {},
     "output_type": "execute_result"
    },
    {
     "data": {
      "image/png": "[encoded data removed]",
      "text/plain": [
       "<Figure size 360x360 with 1 Axes>"
      ]
     },
     "metadata": {
      "needs_background": "light"
     },
     "output_type": "display_data"
    }
   ],
   "source": [
    "# make histogram\n",
    "import seaborn as sns\n",
    "import matplotlib.pyplot as plt\n",
    "\n",
    "fig, ax = plt.subplots(figsize=(5, 5))\n",
    "ax = sns.histplot(data=lcoe_vals, color='lightblue')\n",
    "ax.axvline(average_lcoe, ls = '--', color='navy')\n",
    "ax.text(26, 110, 'average LCOE', color='navy')\n",
    "ax.set_xlabel('LCOE $/MWh')\n",
    "ax.set_title('LCOE simulation')"
   ]
  },
  {
   "cell_type": "code",
   "execution_count": null,
   "id": "3042c9ac",
   "metadata": {},
   "outputs": [],
   "source": []
  }
 ],
 "metadata": {
  "kernelspec": {
   "display_name": "Python 3 (ipykernel)",
   "language": "python",
   "name": "python3"
  },
  "language_info": {
   "codemirror_mode": {
    "name": "ipython",
    "version": 3
   },
   "file_extension": ".py",
   "mimetype": "text/x-python",
   "name": "python",
   "nbconvert_exporter": "python",
   "pygments_lexer": "ipython3",
   "version": "3.8.12"
  }
 },
 "nbformat": 4,
 "nbformat_minor": 5
}
