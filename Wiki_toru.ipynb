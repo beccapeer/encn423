{
 "cells": [
  {
   "cell_type": "markdown",
   "id": "c4c4762e",
   "metadata": {},
   "source": [
    "# Wiki toru (3) tutorial Python notebook\n",
    "\n",
    "Use this notebook to help you code and calculate answers to the Week 3 tutorial questions. We'll assume you're familar with Python operations now, so we'll skip all our coding reminders.\n",
    "\n",
    "You can refresh your memory of useful equations from your notes, or from the lecture summary notes on Learn.\n",
    "\n",
    "I've loaded some potentially useful packages for the tutorial in the first block.\n"
   ]
  },
  {
   "cell_type": "code",
   "execution_count": null,
   "id": "348d43c5",
   "metadata": {},
   "outputs": [],
   "source": [
    "# Load packages - add any others you might need\n",
    "import pandas as pd\n",
    "import numpy as np\n",
    "import math"
   ]
  },
  {
   "cell_type": "code",
   "execution_count": null,
   "id": "ff88bc3d",
   "metadata": {},
   "outputs": [],
   "source": [
    "# Begin code! "
   ]
  }
 ],
 "metadata": {
  "kernelspec": {
   "display_name": "encn423_env",
   "language": "python",
   "name": "encn423_env"
  },
  "language_info": {
   "codemirror_mode": {
    "name": "ipython",
    "version": 3
   },
   "file_extension": ".py",
   "mimetype": "text/x-python",
   "name": "python",
   "nbconvert_exporter": "python",
   "pygments_lexer": "ipython3",
   "version": "3.8.12"
  }
 },
 "nbformat": 4,
 "nbformat_minor": 5
}
