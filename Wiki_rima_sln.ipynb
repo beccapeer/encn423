{
 "cells": [
  {
   "cell_type": "markdown",
   "id": "c4c4762e",
   "metadata": {},
   "source": [
    "# Wiki rima (5) tutorial Python notebook\n",
    "\n",
    "Use this notebook to help you code and calculate answers to the Week 5 tutorial question. We'll assume you're familar with Python operations now, so get straight to it.\n",
    "\n",
    "Remeber, useful equations for the tutorial should be in your class notes or the lecture summary notes on Learn.\n"
   ]
  },
  {
   "cell_type": "code",
   "execution_count": 1,
   "id": "348d43c5",
   "metadata": {},
   "outputs": [],
   "source": [
    "# Load packages - add any others you might need\n",
    "import pandas as pd\n",
    "import numpy as np\n",
    "import math"
   ]
  },
  {
   "cell_type": "code",
   "execution_count": 2,
   "id": "ff88bc3d",
   "metadata": {},
   "outputs": [],
   "source": [
    "# Begin code! \n",
    "# Question 1\n",
    "# Define LHV equation\n",
    "def LHV(HHV, M, H):\n",
    "    #HHV in MJ/kg\n",
    "    #M is moisture in %\n",
    "    #H is H2 content in %\n",
    "    #return LHV in MJ/kg \n",
    "    lhv = HHV*(1-M/100) - 2.44*(M/100) - 2.44*(H/100)*8.936*(1-M/100)  \n",
    "    return lhv"
   ]
  },
  {
   "cell_type": "code",
   "execution_count": 7,
   "id": "65cb8775",
   "metadata": {},
   "outputs": [
    {
     "name": "stdout",
     "output_type": "stream",
     "text": [
      "The LHV of the input fuel is 18.86 MJ/kg\n",
      "The energy input required is 3.63E+08 MJ\n",
      "The annual mass of fuel required is 1.92E+07 kg\n",
      "The annual emissions of carbon dioxide are 3.78E+07 kg\n"
     ]
    }
   ],
   "source": [
    "# Question 1\n",
    "# Calculate LHV for fuel \n",
    "hhv = 36.5 #MJ/kg\n",
    "m = 43\n",
    "h = 7.2\n",
    "\n",
    "lhv_fuel = LHV(hhv,m,h)\n",
    "print('The LHV of the input fuel is {lhv:.2f} MJ/kg'.format(lhv=lhv_fuel))\n",
    "\n",
    "T_h = 219+273\n",
    "T_c = 21+273\n",
    "cap = 5.4 #MW\n",
    "CF = 0.6\n",
    "\n",
    "# Calculate the efficiency of the power plant\n",
    "eta_c = 1 - T_c/T_h\n",
    "eta_pp = 0.7 * eta_c\n",
    "\n",
    "# Calculate the amount of energy input required\n",
    "E_in = (cap*CF*8760)/eta_pp * 3600 #in MWh, converted to MJ\n",
    "print('The energy input required is {e:.2E} MJ'.format(e=E_in))\n",
    "\n",
    "# With energy input and LHV, we calculate the mass of fuel required\n",
    "mass = E_in/lhv_fuel #kg\n",
    "print('The annual mass of fuel required is {m:.2E} kg'.format(m=mass))\n",
    "\n",
    "# Now, with energy and carbon content, we calculate the carbon emissions\n",
    "cc = 28.4 #kg C/GJ\n",
    "e_co2 = E_in * cc * 44/12 * 1/1000 #in kg\n",
    "print('The annual emissions of carbon dioxide are {em:.2E} kg'.format(em=e_co2))"
   ]
  },
  {
   "cell_type": "markdown",
   "id": "af1b21ec",
   "metadata": {},
   "source": []
  },
  {
   "cell_type": "code",
   "execution_count": 44,
   "metadata": {},
   "outputs": [
    {
     "name": "stdout",
     "output_type": "stream",
     "text": [
      "The average mass after 5000 simulations is 1.93E+04 tonnes (+/- 4.67E+01)\n",
      "The average emissions after 5000 simulations is 3.77E+04 tonnes (+/- 1.20E+02)\n"
     ]
    }
   ],
   "source": [
    "# Challenge\n",
    "import scipy.stats as st\n",
    "#variable inputs\n",
    "m_mean = 43\n",
    "m_std = 4\n",
    "h_mean = 7.2\n",
    "h_std = 1.1\n",
    "cc_mean = 28.4\n",
    "cc_std = 3.2\n",
    "hhv_mean = 36.5\n",
    "hhv_std = 4.2\n",
    "\n",
    "#initialise an empty list to store computed carbon emission values\n",
    "eco2_vals = []\n",
    "E_vals = []\n",
    "mass_vals = []\n",
    "\n",
    "#distributions\n",
    "sample = 5000\n",
    "m_dist = np.random.normal(m_mean, m_std, sample)\n",
    "h_dist = np.random.normal(h_mean, h_std, sample)\n",
    "hhv_dist = np.random.normal(hhv_mean, h_std, sample)\n",
    "cc_dist = np.random.normal(cc_mean, cc_std, sample)\n",
    "\n",
    "for j in range(0, sample):\n",
    "    \n",
    "    m_value = np.random.choice(m_dist)\n",
    "    h_value = np.random.choice(h_dist)\n",
    "    hhv_value = np.random.choice(hhv_dist)\n",
    "    cc_value = np.random.choice(cc_dist)\n",
    "        \n",
    "    lhv_value = LHV(hhv_value,m_value,h_value)\n",
    "\n",
    "    mass_i = E_in/lhv_value\n",
    "\n",
    "    eco2_i = E_in * cc_value * 44/12 * 1/1000\n",
    "    \n",
    "    mass_vals.append(mass_i)\n",
    "    eco2_vals.append(eco2_i)\n",
    "\n",
    "average_mass = np.mean(mass_vals)\n",
    "average_emissions = np.mean(eco2_vals)\n",
    "ci_m = st.norm.interval(alpha=0.95, loc=average_mass, scale = st.sem(mass_vals))\n",
    "ci_em = st.norm.interval(alpha=0.95, loc=average_emissions, scale = st.sem(eco2_vals))\n",
    "\n",
    "print('The average mass after {s:.0f} simulations is {mass:.2E} tonnes (+/- {ci:.2E})'.format(s=sample,mass=average_mass/1000, ci = (average_mass-ci_m[0])/1000))\n",
    "print('The average emissions after {s:.0f} simulations is {emission:.2E} tonnes (+/- {ci:.2E})'.format(s=sample, emission=average_emissions/1000,  ci = (average_emissions-ci_em[0])/1000))"
   ]
  },
  {
   "cell_type": "code",
   "execution_count": 46,
   "id": "14e07cf0",
   "metadata": {},
   "outputs": [
    {
     "data": {
      "text/plain": [
       "Text(0.5, 1.0, 'CO2 simulation')"
      ]
     },
     "execution_count": 46,
     "metadata": {},
     "output_type": "execute_result"
    },
    {
     "data": {
      "image/png": "[encoded data removed]",
      "text/plain": [
       "<Figure size 432x288 with 2 Axes>"
      ]
     },
     "metadata": {
      "needs_background": "light"
     },
     "output_type": "display_data"
    }
   ],
   "source": [
    "import seaborn as sns\n",
    "import matplotlib.pyplot as plt\n",
    "\n",
    "fig, (ax1,ax2) = plt.subplots(1,2, sharey=True)\n",
    "ax1.hist(mass_vals, color='lightblue', bins=50)\n",
    "ax1.axvline(average_mass, ls = '--', color='navy')\n",
    "ax1.text(2*10**7, 310, 'average mass', color='navy')\n",
    "ax1.set_xlabel('Biomass required (kg)')\n",
    "ax1.set_title('Biomass simulation')\n",
    "ax2.hist(eco2_vals, color='lightblue', bins=50)\n",
    "ax2.axvline(average_emissions, ls = '--', color='navy')\n",
    "ax2.text(1.7*10**7, 300, 'avg emissions', color='navy')\n",
    "ax2.set_xlabel('CO2 emissions (kg)')\n",
    "ax2.set_title('CO2 simulation')"
   ]
  }
 ],
 "metadata": {
  "interpreter": {
   "hash": "5536a080f63fdd9c023283788f7b92c7cf51ed6e837d66a61036a9fef347bedc"
  },
  "kernelspec": {
   "display_name": "encn423_env",
   "language": "python",
   "name": "python3"
  },
  "language_info": {
   "codemirror_mode": {
    "name": "ipython",
    "version": 3
   },
   "file_extension": ".py",
   "mimetype": "text/x-python",
   "name": "python",
   "nbconvert_exporter": "python",
   "pygments_lexer": "ipython3",
   "version": "3.8.12"
  }
 },
 "nbformat": 4,
 "nbformat_minor": 5
}
