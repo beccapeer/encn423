{
 "cells": [
  {
   "cell_type": "markdown",
   "id": "c4c4762e",
   "metadata": {},
   "source": [
    "# Wiki ono (1) tutorial Python notebook\n",
    "\n",
    "Use this notebook to help you code and calculate answers to the Week 1 tutorial questions.\n",
    "\n",
    "> To run notebook cells, click inside the block (add to the code or write your own) and press <code>Ctrl+Enter</code>\n",
    "> If you've never used a Jupyter notebook before, you can practice with the first two blocks of code below"
   ]
  },
  {
   "cell_type": "code",
   "execution_count": null,
   "id": "288c795c",
   "metadata": {},
   "outputs": [],
   "source": [
    "# We'll start by defining a simple function\n",
    "def hello_world(name):\n",
    "    # name is a string input\n",
    "    print('Hello, world this is '+name+'!')"
   ]
  },
  {
   "cell_type": "code",
   "execution_count": null,
   "id": "04045250",
   "metadata": {},
   "outputs": [],
   "source": [
    "# Now we can practice calling our function - try inputting the code you need below\n"
   ]
  },
  {
   "cell_type": "markdown",
   "id": "cbe88cad",
   "metadata": {},
   "source": [
    "### Tutorial begins here\n",
    "\n",
    "Now that you've practiced, you can use the notebook below for the tutorial. Blocks will add themselves to the notebook automatically, or you can use the '+' button on the top ribbon to add more. You can save your notebook and outputs when you're finished. "
   ]
  },
  {
   "cell_type": "code",
   "execution_count": null,
   "id": "348d43c5",
   "metadata": {},
   "outputs": [],
   "source": [
    "# Often we start by loading any packages we think we might need for our code\n",
    "# There's none required for this tutorial, but if you're attempting the challenge you might want e.g.:\n",
    "import pandas as pd\n",
    "import numpy as np"
   ]
  },
  {
   "cell_type": "code",
   "execution_count": null,
   "id": "35e1e7de",
   "metadata": {},
   "outputs": [],
   "source": [
    "# Question 1\n"
   ]
  },
  {
   "cell_type": "code",
   "execution_count": null,
   "id": "f9eda265",
   "metadata": {},
   "outputs": [],
   "source": [
    "# Question 2"
   ]
  }
 ],
 "metadata": {
  "kernelspec": {
   "display_name": "encn423_env",
   "language": "python",
   "name": "encn423_env"
  },
  "language_info": {
   "codemirror_mode": {
    "name": "ipython",
    "version": 3
   },
   "file_extension": ".py",
   "mimetype": "text/x-python",
   "name": "python",
   "nbconvert_exporter": "python",
   "pygments_lexer": "ipython3",
   "version": "3.8.12"
  }
 },
 "nbformat": 4,
 "nbformat_minor": 5
}
